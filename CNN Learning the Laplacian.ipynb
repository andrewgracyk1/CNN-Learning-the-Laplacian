{
 "cells": [
  {
   "cell_type": "code",
   "execution_count": 103,
   "metadata": {},
   "outputs": [
    {
     "name": "stdout",
     "output_type": "stream",
     "text": [
      "Packages:\n",
      "torch.__version__ = 1.5.0\n",
      "numpy.__version__ = 1.18.1\n",
      "gmlsnets.__version__ = 1.0.0\n"
     ]
    }
   ],
   "source": [
    "# Import relevant libraries\n",
    "\n",
    "import sys;\n",
    "\n",
    "# setup path to location of gmlsnets_pytorch (if not install system-wide)\n",
    "path_gmlsnets_pytorch = '../../';\n",
    "sys.path.append(path_gmlsnets_pytorch);\n",
    "\n",
    "import torch;\n",
    "import torch.nn as nn;\n",
    "import torch.nn.functional as F\n",
    "import torch.optim as optim\n",
    "\n",
    "import numpy as np;\n",
    "import pickle;\n",
    "\n",
    "import matplotlib.pyplot as plt;\n",
    "\n",
    "import pdb\n",
    "import time\n",
    "\n",
    "import os\n",
    "\n",
    "# setup gmlsnets package\n",
    "import gmlsnets_pytorch as gmlsnets;\n",
    "import gmlsnets_pytorch.nn;\n",
    "import gmlsnets_pytorch.vis;\n",
    "import gmlsnets_pytorch.dataset;\n",
    "\n",
    "# dereference a few common items\n",
    "MapToPoly_Function = gmlsnets.nn.MapToPoly_Function;\n",
    "get_num_polys = MapToPoly_Function.get_num_polys;\n",
    "weight_one_minus_r = MapToPoly_Function.weight_one_minus_r;\n",
    "eval_poly = MapToPoly_Function.eval_poly;\n",
    "\n",
    "print(\"Packages:\");\n",
    "print(\"torch.__version__ = \" + str(torch.__version__));\n",
    "print(\"numpy.__version__ = \" + str(np.__version__));\n",
    "print(\"gmlsnets.__version__ = \" + str(gmlsnets.__version__));"
   ]
  },
  {
   "cell_type": "code",
   "execution_count": 104,
   "metadata": {},
   "outputs": [
    {
     "name": "stdout",
     "output_type": "stream",
     "text": [
      "Settings:\n",
      "flag_dataset = diffOp2\n",
      "run_name = diffOp2_Test1\n",
      "base_dir = ./output/regression_diff_op_2d/diffOp2_Test1\n",
      "device = cpu\n"
     ]
    }
   ],
   "source": [
    "# Setup the parameters\n",
    "batch_size = int(1e1);\n",
    "flag_extend_periodic = False; # periodic boundaries\n",
    "flag_dataset = 'diffOp2';\n",
    "run_name = '%s_Test1'%flag_dataset;\n",
    "base_dir = './output/regression_diff_op_2d/%s'%run_name;\n",
    "flag_save_figs = True;\n",
    "fig_base_dir = '%s/fig'%base_dir;\n",
    "flag_print_model = False;\n",
    "\n",
    "print(\"Settings:\");\n",
    "print(\"flag_dataset = \" + flag_dataset);\n",
    "print(\"run_name = \" + run_name);\n",
    "print(\"base_dir = \" + base_dir);  \n",
    "\n",
    "if not os.path.exists(base_dir):\n",
    "  os.makedirs(base_dir);\n",
    "\n",
    "if not os.path.exists(fig_base_dir):\n",
    "  os.makedirs(fig_base_dir);\n",
    "\n",
    "# Configure devices\n",
    "if torch.cuda.is_available():  \n",
    "  num_gpus = torch.cuda.device_count();\n",
    "  print(\"num_gpus = \" + str(num_gpus));\n",
    "  if num_gpus >= 4:\n",
    "    device = torch.device('cuda:3');\n",
    "  else:\n",
    "    device = torch.device('cuda:0');\n",
    "else: \n",
    "  device = torch.device('cpu');\n",
    "print(\"device = \" + str(device));"
   ]
  },
  {
   "cell_type": "code",
   "execution_count": 105,
   "metadata": {},
   "outputs": [],
   "source": [
    "Nx = 21;Ny = 21; \n",
    "nx = Nx; ny = Ny;\n",
    "\n",
    "NNx = 3*Nx; NNy = 3*Ny; # simple periodic by tiling for now\n",
    "aspect_ratio = NNx/float(NNy);\n",
    "xx = np.linspace(-1.5,aspect_ratio*1.5,NNx); xx = xx.astype(float);\n",
    "yy = np.linspace(-1.5,1.5,NNy); yy = yy.astype(float);\n",
    "\n",
    "aa = np.meshgrid(xx,yy);\n",
    "np_xj = np.array([aa[0].flatten(), aa[1].flatten()]).T;\n",
    "\n",
    "aa = np.meshgrid(xx,yy);\n",
    "np_xi = np.array([aa[0].flatten(), aa[1].flatten()]).T;\n",
    "\n",
    "# make torch tensors\n",
    "xj = torch.from_numpy(np_xj).float().to(device); # convert to torch tensors\n",
    "xj.requires_grad = False;\n",
    "\n",
    "xi = torch.from_numpy(np_xi).float().to(device); # convert to torch tensors\n",
    "xi.requires_grad = False;"
   ]
  },
  {
   "cell_type": "code",
   "execution_count": 106,
   "metadata": {},
   "outputs": [
    {
     "name": "stdout",
     "output_type": "stream",
     "text": [
      "Generating the data samples which can take some time.\n",
      "num_samples = 5000\n",
      "done.\n",
      "Generating the data samples which can take some time.\n",
      "num_samples = 1000\n",
      "done.\n"
     ]
    }
   ],
   "source": [
    "if flag_dataset == 'diffOp2':\n",
    "  \n",
    "  flag_verbose = 1;\n",
    "  #op_type = r'\\Delta{u}';op_type = r'\\Delta{u}*\\Delta{u}';\n",
    "  #op_type = r'u\\Delta{u}';op_type = r'\\grad{u}';op_type = r'u\\grad{u}';\n",
    "  #op_type = r'\\grad{u}\\cdot\\grad{u}';\n",
    "  op_type = r'\\grad{u}';\n",
    "    \n",
    "  num_dim = 2;\n",
    "  num_training_samples = int(5e3);\n",
    "  nchannels_u = 1;  \n",
    "  Nc = nchannels_u;\n",
    "\n",
    "  #alpha1 = 0.05;\n",
    "  alpha1 = 0.3;\n",
    "  scale_factor = 1e2;\n",
    "  train_dataset = gmlsnets.dataset.diffOp2(op_type=op_type,op_params=None,\n",
    "                                           gen_mode='exp1',gen_params={'alpha1':alpha1},\n",
    "                                           num_samples=num_training_samples,\n",
    "                                           nchannels=nchannels_u,nx=nx,ny=ny,\n",
    "                                           noise_factor=0,scale_factor=scale_factor,\n",
    "                                           flag_verbose=flag_verbose);\n",
    "  \n",
    "  train_dataset = train_dataset.to(device);\n",
    "  if flag_verbose > 0:\n",
    "    print(\"done.\");\n",
    "\n",
    "  num_test_samples = int(1e3);\n",
    "  scale_factor = 1e2;\n",
    "  test_dataset = gmlsnets.dataset.diffOp2(op_type=op_type,op_params=None,\n",
    "                                          gen_mode='exp1',gen_params={'alpha1':alpha1},\n",
    "                                          num_samples=num_test_samples,\n",
    "                                          nchannels=nchannels_u,nx=nx,ny=ny,\n",
    "                                          noise_factor=0,scale_factor=scale_factor,\n",
    "                                          flag_verbose=flag_verbose);\n",
    "  test_dataset = test_dataset.to(device);\n",
    "    \n",
    "  if flag_verbose > 0:\n",
    "    print(\"done.\");\n",
    "  \n",
    "else:\n",
    "  msg = \"flag_dataset not recognized.\";\n",
    "  msg += \"flag_dataset = \" + str(flag_dataset);\n",
    "  raise Exception(msg);\n",
    "\n",
    "\n",
    "# Data loader\n",
    "train_loader = torch.utils.data.DataLoader(dataset=train_dataset,batch_size=batch_size,shuffle=True);\n",
    "test_loader = torch.utils.data.DataLoader(dataset=test_dataset,batch_size=batch_size,shuffle=False);\n",
    "\n",
    "# Cound number of output channels in f, determines if scalar or vector valued data\n",
    "nchannels_f = train_dataset.samples_Y.shape[1];"
   ]
  },
  {
   "cell_type": "code",
   "execution_count": 107,
   "metadata": {},
   "outputs": [
    {
     "name": "stdout",
     "output_type": "stream",
     "text": [
      "saveFilename = ./output/regression_diff_op_2d/diffOp2_Test1/fig/samples_u.pdf\n",
      "saveFilename = ./output/regression_diff_op_2d/diffOp2_Test1/fig/samples_u.png\n",
      "saveFilename = ./output/regression_diff_op_2d/diffOp2_Test1/fig/samples_f.pdf\n",
      "saveFilename = ./output/regression_diff_op_2d/diffOp2_Test1/fig/samples_f.png\n"
     ]
    },
    {
     "data": {
      "image/png": "[encoded data removed]",
      "text/plain": [
       "<Figure size 432x432 with 16 Axes>"
      ]
     },
     "metadata": {},
     "output_type": "display_data"
    },
    {
     "data": {
      "image/png": "[encoded data removed]",
      "text/plain": [
       "<Figure size 432x432 with 16 Axes>"
      ]
     },
     "metadata": {},
     "output_type": "display_data"
    }
   ],
   "source": [
    "flag_run_cell = True;\n",
    "if flag_run_cell:\n",
    "    # Show subset of the data \n",
    "    img_arr = [];\n",
    "    label_str_arr = [];\n",
    "\n",
    "    numImages = len(train_dataset);\n",
    "    #II = np.random.permutation(numImages); # compute random collection of indices @optimize\n",
    "    II = np.arange(numImages);\n",
    "\n",
    "    if flag_dataset == '' or 0 == 0:          \n",
    "      img_arr = [];\n",
    "      channelI = 0; # for vector-valued fields, choose component.\n",
    "      for I in np.arange(0,min(num_training_samples,16)):        \n",
    "        img_arr.append(train_dataset[II[I],channelI,:][0].cpu());\n",
    "      gmlsnets.vis.plot_image_array(img_arr,title=r'$u^{[i]}$ Samples',figSize=(6,6),title_yp=0.95);\n",
    "    \n",
    "      if flag_save_figs:\n",
    "        fig_name = 'samples_u';\n",
    "        gmlsnets.vis.save_fig('%s/%s'%(fig_base_dir,fig_name),'',flag_verbose=True,dpi_set=200,flag_pdf=True);\n",
    "        \n",
    "      img_arr = [];\n",
    "      channelI = 0;\n",
    "      for I in np.arange(0,min(num_training_samples,16)):\n",
    "        img_arr.append(train_dataset[II[I],channelI,:][1].cpu());      \n",
    "      gmlsnets.vis.plot_image_array(img_arr,title=r'$f^{[i]}$ Samples',figSize=(6,6),title_yp=0.95);\n",
    "    \n",
    "      if flag_save_figs:\n",
    "        fig_name = 'samples_f';\n",
    "        gmlsnets.vis.save_fig('%s/%s'%(fig_base_dir,fig_name),'',flag_verbose=True,dpi_set=200,flag_pdf=True);"
   ]
  },
  {
   "cell_type": "code",
   "execution_count": 108,
   "metadata": {},
   "outputs": [],
   "source": [
    "# Define heat map so we may plot our results\n",
    "def heatmap2d(arr: np.ndarray):\n",
    "    plt.imshow(arr, cmap='hot')\n",
    "    plt.colorbar()\n",
    "    plt.show()"
   ]
  },
  {
   "cell_type": "code",
   "execution_count": 109,
   "metadata": {},
   "outputs": [
    {
     "name": "stdout",
     "output_type": "stream",
     "text": [
      "Net(\n",
      "  (conv1): Conv2d(1, 1, kernel_size=(3, 3), stride=(1, 1), padding=(1, 1))\n",
      ")\n"
     ]
    }
   ],
   "source": [
    "# Create our CNN\n",
    "class Net(nn.Module):\n",
    "\n",
    "    def __init__(self):\n",
    "        super(Net, self).__init__()\n",
    "        self.conv1 = nn.Conv2d(1, 1, 3, padding=(1,1))   # Convolution layer\n",
    "\n",
    "    def forward(self, x):\n",
    "        x = F.max_pool2d((self.conv1(x)), (1, 1))\n",
    "        return x\n",
    "\n",
    "    def num_flat_features(self, x):\n",
    "        size = x.size()[1:]  # all dimensions except the batch dimension\n",
    "        num_features = 1\n",
    "        for s in size:\n",
    "            num_features *= s\n",
    "        return num_features\n",
    "\n",
    "\n",
    "net = Net()\n",
    "print(net)  # Print CNN details"
   ]
  },
  {
   "cell_type": "code",
   "execution_count": 110,
   "metadata": {},
   "outputs": [
    {
     "name": "stdout",
     "output_type": "stream",
     "text": [
      "Finished converting data to tensors. \n"
     ]
    }
   ],
   "source": [
    "# Our aim here is to learn Laplacian such that L[u] = g. Here, we find our data for u and g  and convert to tensors\n",
    "\n",
    "amt_data = 5000  # Amount of data we'll use\n",
    "\n",
    "for I in np.arange(0,min(num_training_samples,amt_data)):        \n",
    "    img_arr.append(train_dataset[II[I],channelI,:][0].cpu());    # Extract initial function u\n",
    "u_nontensor = img_arr   # Store input data, nontensors\n",
    "u_data = torch.ones(1,1,21,21)   # Initialize new input data tensor\n",
    "placeholder = torch.ones(1,1,21,21) # Placeholder that will store input data as a tensor\n",
    "\n",
    "# Perform loops to convert input data to tensors\n",
    "for k in np.arange(0,amt_data):\n",
    "    for j in np.arange(0,21):\n",
    "        for i in np.arange(0,21):\n",
    "            placeholder[0,0,i,j] = u_nontensor[k][i,j]\n",
    "    u_data = torch.cat((u_data, placeholder))  # Concatenate placeholder with filled-in values with our data tensor\n",
    "\n",
    "# First entry is a placeholder tensor that we used to initialize tensor dimensions\n",
    "# We can go ahead and remove it\n",
    "u_data = u_data[1:amt_data]\n",
    "\n",
    "\n",
    "\n",
    "        \n",
    "for I in np.arange(0,min(num_training_samples,amt_data)):        \n",
    "    img_arr.append(train_dataset[II[I],channelI,:][1].cpu());    # Extract output function g\n",
    "g_nontensor = img_arr   # Store output data, nontensors\n",
    "g_data = torch.ones(1,1,21,21)   # Initialize new output data tensor\n",
    "placeholder2 = torch.ones(1,1,21,21)    # Placeholder that will store output data as a tensor\n",
    "\n",
    "# Perform loops to convert output data to tensors\n",
    "for k in np.arange(0,amt_data):\n",
    "    for j in np.arange(0,21):\n",
    "        for i in np.arange(0,21):\n",
    "            placeholder2[0,0,i,j] = g_nontensor[k][i,j]    \n",
    "    g_data = torch.cat((g_data, placeholder2))  # Concatenate placeholder with filled-in values with our data tensor\n",
    "\n",
    "# First entry is a placeholder tensor that we used to initialize tensor dimensions\n",
    "# We can go ahead and remove it\n",
    "g_data = g_data[1:amt_data]\n",
    "\n",
    "out = net(u_data)\n",
    "\n",
    "print(\"Finished converting data to tensors. \")"
   ]
  },
  {
   "cell_type": "code",
   "execution_count": 111,
   "metadata": {},
   "outputs": [],
   "source": [
    "net.zero_grad()\n",
    "out.backward(torch.ones(amt_data-1, 1, 21, 21))   "
   ]
  },
  {
   "cell_type": "code",
   "execution_count": 112,
   "metadata": {},
   "outputs": [],
   "source": [
    "# Define custom loss function\n",
    "def custom_loss_least_squares(val1,val2):  \n",
    "  r\"\"\"Computes the Mean-Square-Error (MSE) over the entire batch.\"\"\"\n",
    "  diff_flat = (val1 - val2).flatten();\n",
    "  N = diff_flat.shape[0];\n",
    "  loss = torch.sum(torch.pow(diff_flat,2),-1)/N;\n",
    "  return loss;\n",
    "\n",
    "loss_func = custom_loss_least_squares"
   ]
  },
  {
   "cell_type": "code",
   "execution_count": 113,
   "metadata": {},
   "outputs": [
    {
     "name": "stdout",
     "output_type": "stream",
     "text": [
      "tensor(0.4830, grad_fn=<DivBackward0>)\n"
     ]
    }
   ],
   "source": [
    "output = net(u_data)   # Output of CNN\n",
    "target = g_data   # Target data that our CNN aims for\n",
    "loss = loss_func(output, target)  # Find loss\n",
    "print(loss)\n"
   ]
  },
  {
   "cell_type": "code",
   "execution_count": 114,
   "metadata": {},
   "outputs": [
    {
     "name": "stdout",
     "output_type": "stream",
     "text": [
      "<DivBackward0 object at 0x000001D756E5CA08>\n",
      "<SumBackward1 object at 0x000001D756E5CE08>\n",
      "<PowBackward0 object at 0x000001D756E5CA08>\n"
     ]
    }
   ],
   "source": [
    "print(loss.grad_fn)  # MSELoss\n",
    "print(loss.grad_fn.next_functions[0][0])  # Linear\n",
    "print(loss.grad_fn.next_functions[0][0].next_functions[0][0])  # ReLU"
   ]
  },
  {
   "cell_type": "code",
   "execution_count": 115,
   "metadata": {},
   "outputs": [
    {
     "name": "stdout",
     "output_type": "stream",
     "text": [
      "conv1.bias.grad before backward\n",
      "tensor([0.])\n",
      "conv1.bias.grad after backward\n",
      "tensor([0.4304])\n"
     ]
    }
   ],
   "source": [
    "net.zero_grad()     # zeroes the gradient buffers of all parameters\n",
    "\n",
    "print('conv1.bias.grad before backward')\n",
    "print(net.conv1.bias.grad)\n",
    "\n",
    "loss.backward()\n",
    "\n",
    "print('conv1.bias.grad after backward')\n",
    "print(net.conv1.bias.grad)"
   ]
  },
  {
   "cell_type": "code",
   "execution_count": 116,
   "metadata": {},
   "outputs": [],
   "source": [
    "learning_rate = 0.01\n",
    "for f in net.parameters():\n",
    "    f.data.sub_(f.grad.data * learning_rate)"
   ]
  },
  {
   "cell_type": "code",
   "execution_count": 117,
   "metadata": {},
   "outputs": [],
   "source": [
    "num_iterations = 500   # Number of iterations of ur back prop\n",
    "loss_vector = np.zeros(shape=(num_iterations,1))   # Vector to store loss values\n",
    "index_vector = np.zeros(shape=(num_iterations,1))   # Stores iteration number for loss\n",
    "\n",
    "for i in np.arange(1,num_iterations):\n",
    "    index_vector[i-1] = i\n",
    "    \n",
    "    # Create optimizer\n",
    "    optimizer = optim.Adam(net.parameters(), lr=0.01)\n",
    "    \n",
    "    # Perform back prop\n",
    "    optimizer.zero_grad()   # Zero the gradient buffers\n",
    "    output = net(u_data)\n",
    "    loss = loss_func(output, target)\n",
    "    loss.backward()\n",
    "    loss_vector[i-1] = loss.detach()\n",
    "    optimizer.step()    # Does the update"
   ]
  },
  {
   "cell_type": "code",
   "execution_count": 124,
   "metadata": {},
   "outputs": [
    {
     "data": {
      "image/png": "[encoded data removed]",
      "text/plain": [
       "<Figure size 432x288 with 1 Axes>"
      ]
     },
     "metadata": {
      "needs_background": "light"
     },
     "output_type": "display_data"
    }
   ],
   "source": [
    "# Plot loss, semilogx plot\n",
    "plt.semilogx(index_vector[20:300], loss_vector[20:300], \"b-\")\n",
    "plt.xlabel('step');\n",
    "plt.ylabel('loss');\n",
    "\n",
    "plt.title('Loss');"
   ]
  },
  {
   "cell_type": "code",
   "execution_count": 125,
   "metadata": {},
   "outputs": [
    {
     "data": {
      "image/png": "[encoded data removed]",
      "text/plain": [
       "<Figure size 432x288 with 2 Axes>"
      ]
     },
     "metadata": {
      "needs_background": "light"
     },
     "output_type": "display_data"
    },
    {
     "data": {
      "image/png": "[encoded data removed]",
      "text/plain": [
       "<Figure size 432x288 with 2 Axes>"
      ]
     },
     "metadata": {
      "needs_background": "light"
     },
     "output_type": "display_data"
    }
   ],
   "source": [
    "# Predicted solution: what the CNN produces\n",
    "CNN_output = output.squeeze(0).detach().cpu().numpy()\n",
    "\n",
    "# Extract particular plots\n",
    "# The indices can be changed to graph different plots\n",
    "CNN_output_ex1 = CNN_output[10][0,:,:]\n",
    "CNN_output_ex2 = CNN_output[11][0,:,:]\n",
    "\n",
    "heatmap2d(CNN_output_ex1)\n",
    "heatmap2d(CNN_output_ex2)\n"
   ]
  },
  {
   "cell_type": "code",
   "execution_count": 126,
   "metadata": {},
   "outputs": [
    {
     "data": {
      "image/png": "[encoded data removed]",
      "text/plain": [
       "<Figure size 432x288 with 2 Axes>"
      ]
     },
     "metadata": {
      "needs_background": "light"
     },
     "output_type": "display_data"
    },
    {
     "data": {
      "image/png": "[encoded data removed]",
      "text/plain": [
       "<Figure size 432x288 with 2 Axes>"
      ]
     },
     "metadata": {
      "needs_background": "light"
     },
     "output_type": "display_data"
    }
   ],
   "source": [
    "# Actual solution: the g in L[u] = g\n",
    "g_output = g_data.squeeze(0).detach().cpu().numpy()\n",
    "\n",
    "# Extract particular plots\n",
    "# The indices can be changed to graph different plots\n",
    "g_output_ex1 = g_output[10][0,:,:]\n",
    "g_output_ex2 = g_output[11][0,:,:]\n",
    "\n",
    "heatmap2d(g_output_ex1)\n",
    "heatmap2d(g_output_ex2)"
   ]
  },
  {
   "cell_type": "code",
   "execution_count": 127,
   "metadata": {},
   "outputs": [
    {
     "name": "stdout",
     "output_type": "stream",
     "text": [
      "Parameter containing:\n",
      "tensor([[[[ 0.0694, -0.0448,  0.3788],\n",
      "          [ 0.0995,  0.2496, -0.0839],\n",
      "          [ 0.1485,  0.2500,  0.0731]]]], requires_grad=True)\n"
     ]
    }
   ],
   "source": [
    "# Print convolution weights to see finite difference stencil\n",
    "print(net.conv1.weight)"
   ]
  },
  {
   "cell_type": "code",
   "execution_count": null,
   "metadata": {},
   "outputs": [],
   "source": []
  }
 ],
 "metadata": {
  "kernelspec": {
   "display_name": "Python 3",
   "language": "python",
   "name": "python3"
  },
  "language_info": {
   "codemirror_mode": {
    "name": "ipython",
    "version": 3
   },
   "file_extension": ".py",
   "mimetype": "text/x-python",
   "name": "python",
   "nbconvert_exporter": "python",
   "pygments_lexer": "ipython3",
   "version": "3.7.6"
  }
 },
 "nbformat": 4,
 "nbformat_minor": 4
}
